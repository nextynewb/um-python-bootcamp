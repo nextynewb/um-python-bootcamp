{
 "cells": [
  {
   "cell_type": "markdown",
   "id": "adef40f4",
   "metadata": {},
   "source": [
    "<img src=\"img/image.png\" alt=\"Description\" width=\"50%\">\n",
    "\n",
    "\n"
   ]
  },
  {
   "cell_type": "code",
   "execution_count": 4,
   "id": "f58fadd3",
   "metadata": {},
   "outputs": [
    {
     "name": "stdout",
     "output_type": "stream",
     "text": [
      "<class 'str'>\n",
      "Converted to datetime: 2020-01-01 12:03:20\n",
      "Type: <class 'datetime.datetime'>\n",
      "Year: 2020\n",
      "Month: 1\n",
      "Day: 1\n",
      "Hour: 12\n",
      "Minute: 3\n",
      "Second: 20\n"
     ]
    }
   ],
   "source": [
    "from datetime import datetime\n",
    "\n",
    "date_str = \"2020-01-01 12:03:20\"\n",
    "\n",
    "print(type(date_str))\n",
    "\n",
    "# Convert string to datetime object\n",
    "date_obj = datetime.strptime(date_str, \"%Y-%m-%d %H:%M:%S\")\n",
    "print(f\"Converted to datetime: {date_obj}\")\n",
    "print(f\"Type: {type(date_obj)}\")\n",
    "\n",
    "\n",
    "# Access datetime components\n",
    "print(f\"Year: {date_obj.year}\")\n",
    "print(f\"Month: {date_obj.month}\")\n",
    "print(f\"Day: {date_obj.day}\")\n",
    "print(f\"Hour: {date_obj.hour}\")\n",
    "print(f\"Minute: {date_obj.minute}\")\n",
    "print(f\"Second: {date_obj.second}\")\n",
    "\n",
    "\n",
    "\n"
   ]
  },
  {
   "cell_type": "code",
   "execution_count": 8,
   "id": "e5ab8ce7",
   "metadata": {},
   "outputs": [
    {
     "name": "stdout",
     "output_type": "stream",
     "text": [
      "Time difference: 91 days, 0:00:00\n"
     ]
    }
   ],
   "source": [
    "\"\"\"\n",
    "Operations 1: Time difference\n",
    "\"\"\"\n",
    "\n",
    "starting_date = \"2020-10-01\"\n",
    "ending_date = \"2020-12-31\"\n",
    "\n",
    "starting_date_obj = datetime.strptime(starting_date, \"%Y-%m-%d\")\n",
    "ending_date_obj = datetime.strptime(ending_date, \"%Y-%m-%d\")\n",
    "\n",
    "print(f\"Time difference: {ending_date_obj - starting_date_obj}\")\n"
   ]
  },
  {
   "cell_type": "code",
   "execution_count": 9,
   "id": "442386a8",
   "metadata": {},
   "outputs": [
    {
     "name": "stdout",
     "output_type": "stream",
     "text": [
      "Month: 1\n",
      "Day: 1\n",
      "Hour: 12\n",
      "Minute: 3\n",
      "Second: 20\n"
     ]
    }
   ],
   "source": [
    "\"\"\"\n",
    "Operations 2: Extract date components\n",
    "\"\"\"\n",
    "\n",
    "from datetime import datetime\n",
    "\n",
    "date_str = \"2020-01-01 12:03:20\"\n",
    "\n",
    "date_obj = datetime.strptime(date_str, \"%Y-%m-%d %H:%M:%S\")\n",
    "\n",
    "print(f\"Month: {date_obj.month}\")\n",
    "print(f\"Day: {date_obj.day}\")\n",
    "print(f\"Hour: {date_obj.hour}\")\n",
    "print(f\"Minute: {date_obj.minute}\")\n",
    "print(f\"Second: {date_obj.second}\")\n",
    "\n",
    "\n",
    "\n"
   ]
  },
  {
   "cell_type": "code",
   "execution_count": null,
   "id": "966c096a",
   "metadata": {},
   "outputs": [],
   "source": []
  }
 ],
 "metadata": {
  "kernelspec": {
   "display_name": "Python 3",
   "language": "python",
   "name": "python3"
  },
  "language_info": {
   "codemirror_mode": {
    "name": "ipython",
    "version": 3
   },
   "file_extension": ".py",
   "mimetype": "text/x-python",
   "name": "python",
   "nbconvert_exporter": "python",
   "pygments_lexer": "ipython3",
   "version": "3.11.6"
  }
 },
 "nbformat": 4,
 "nbformat_minor": 5
}
