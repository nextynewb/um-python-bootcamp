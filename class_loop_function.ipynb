{
 "cells": [
  {
   "cell_type": "code",
   "execution_count": null,
   "id": "95eb44af",
   "metadata": {},
   "outputs": [],
   "source": [
    "fruits = ['apple', 'banana', 'cherry', 'date', 'elderberry']"
   ]
  },
  {
   "cell_type": "code",
   "execution_count": null,
   "id": "eb65b852",
   "metadata": {},
   "outputs": [],
   "source": [
    "students_cgpa = {\n",
    "    'Rahman': 3.5,\n",
    "    'Siti': 3.8,\n",
    "    'Aniq': 3.2,\n",
    "    'Sarah': 3.7,\n",
    "    'Malik': 3.9,\n",
    "    'John': 3.6,\n",
    "    'Mary': 3.3,\n",
    "    'Ali': 3.4,\n",
    "    'Lisa': 3.1,\n",
    "}\n",
    "\n",
    "\n"
   ]
  },
  {
   "cell_type": "code",
   "execution_count": 2,
   "id": "5a0f4f1d",
   "metadata": {},
   "outputs": [
    {
     "name": "stdout",
     "output_type": "stream",
     "text": [
      "Hour: 12, Minute: 0, Second: 0\n",
      "Year: 2024, Month: 1, Day: 20\n"
     ]
    }
   ],
   "source": [
    "from datetime import datetime\n",
    "\n",
    "date_str = \"20-Jan-24 12:00:00 PM\"\n",
    "date = datetime.strptime(date_str, \"%d-%b-%y %I:%M:%S %p\")\n",
    "\n",
    "# Extract Year, Month, Day, Hour, Minute, Second\n",
    "year = date.year\n",
    "month = date.month\n",
    "day = date.day\n",
    "hour = date.hour\n",
    "minute = date.minute\n",
    "second = date.second\n",
    "\n",
    "print(f\"Hour: {hour}, Minute: {minute}, Second: {second}\")\n",
    "print(f\"Year: {year}, Month: {month}, Day: {day}\")"
   ]
  },
  {
   "cell_type": "code",
   "execution_count": 1,
   "id": "36a8c8d4",
   "metadata": {},
   "outputs": [
    {
     "name": "stdout",
     "output_type": "stream",
     "text": [
      "Difference: 1 day, 1:00:00\n"
     ]
    }
   ],
   "source": [
    "from datetime import datetime\n",
    "\n",
    "# Two different dates\n",
    "date_1 = \"20-Jan-24 12:00:00 PM\"\n",
    "date_2 = \"21-Jan-24 01:00:00 PM\"\n",
    "\n",
    "# Convert both to datetime objects\n",
    "date_1 = datetime.strptime(date_1, \"%d-%b-%y %I:%M:%S %p\")\n",
    "date_2 = datetime.strptime(date_2, \"%d-%b-%y %I:%M:%S %p\")\n",
    "\n",
    "# Calculate difference\n",
    "diff = date_2 - date_1\n",
    "print(f\"Difference: {diff}\")\n",
    "# Output: Difference: 1 day, 1:00:00"
   ]
  },
  {
   "cell_type": "code",
   "execution_count": null,
   "id": "bb4f8461",
   "metadata": {},
   "outputs": [],
   "source": []
  }
 ],
 "metadata": {
  "kernelspec": {
   "display_name": "Python 3",
   "language": "python",
   "name": "python3"
  },
  "language_info": {
   "codemirror_mode": {
    "name": "ipython",
    "version": 3
   },
   "file_extension": ".py",
   "mimetype": "text/x-python",
   "name": "python",
   "nbconvert_exporter": "python",
   "pygments_lexer": "ipython3",
   "version": "3.11.6"
  }
 },
 "nbformat": 4,
 "nbformat_minor": 5
}
